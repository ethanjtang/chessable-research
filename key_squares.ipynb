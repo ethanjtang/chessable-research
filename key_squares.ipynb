{
 "cells": [
  {
   "cell_type": "code",
   "execution_count": 5,
   "id": "d0c49ae4",
   "metadata": {},
   "outputs": [],
   "source": [
    "# general library imports\n",
    "import numpy\n",
    "import pandas\n",
    "import chess\n",
    "\n",
    "# specific library imports\n",
    "from collections import OrderedDict\n"
   ]
  },
  {
   "cell_type": "code",
   "execution_count": null,
   "id": "c02c41d8",
   "metadata": {},
   "outputs": [],
   "source": [
    "def calc_square_strength(board, color):\n",
    "\n",
    "    square_strength_map = OrderedDict()\n",
    "\n",
    "    if color == \"white\":\n",
    "        for square in chess.SQUARES:\n",
    "            attackers = board.attackers(chess.WHITE, square)\n",
    "            square_strength_map[chess.square_name(square)] =  len(attackers)\n",
    "    elif color == \"black\":\n",
    "        for square in chess.SQUARES:\n",
    "            attackers = board.attackers(chess.BLACK, square)\n",
    "            square_strength_map[chess.square_name(square)] =  len(attackers)\n",
    "            \n",
    "    return square_strength_map\n",
    "\n",
    "def calc_territory(board, min_strength):\n",
    "    \n",
    "    # territory == squares firmly controlled by a color\n",
    "    white_territory = []\n",
    "    black_territory = []\n",
    "\n",
    "    # ss_map == square strength map\n",
    "    white_ss_map = calc_square_strength(board, \"white\")\n",
    "    black_ss_map = calc_square_strength(board, \"black\")\n",
    "\n",
    "    for square in chess.SQUARE_NAMES:\n",
    "\n",
    "        # calculate white territory\n",
    "        if white_ss_map[square] - black_ss_map[square] >= min_strength:\n",
    "            white_territory.append(square)\n",
    "        \n",
    "        # calculate black territory\n",
    "        elif black_ss_map[square] - white_ss_map[square] >= min_strength:\n",
    "            black_territory.append(square)\n",
    "\n",
    "    return {\n",
    "        \"white_territory\": white_territory, \n",
    "        \"black_territory\": black_territory,\n",
    "        \"min_strength\": min_strength\n",
    "    }\n"
   ]
  },
  {
   "cell_type": "code",
   "execution_count": null,
   "id": "1b88b5f1",
   "metadata": {},
   "outputs": [
    {
     "name": "stdout",
     "output_type": "stream",
     "text": [
      "OrderedDict([('a1', 0), ('b1', 1), ('c1', 1), ('d1', 1), ('e1', 1), ('f1', 1), ('g1', 1), ('h1', 0), ('a2', 1), ('b2', 1), ('c2', 1), ('d2', 4), ('e2', 4), ('f2', 1), ('g2', 1), ('h2', 1), ('a3', 2), ('b3', 2), ('c3', 3), ('d3', 2), ('e3', 2), ('f3', 3), ('g3', 2), ('h3', 2), ('a4', 0), ('b4', 0), ('c4', 0), ('d4', 0), ('e4', 0), ('f4', 0), ('g4', 0), ('h4', 0), ('a5', 0), ('b5', 0), ('c5', 0), ('d5', 0), ('e5', 0), ('f5', 0), ('g5', 0), ('h5', 0), ('a6', 0), ('b6', 0), ('c6', 0), ('d6', 0), ('e6', 0), ('f6', 0), ('g6', 0), ('h6', 0), ('a7', 0), ('b7', 0), ('c7', 0), ('d7', 0), ('e7', 0), ('f7', 0), ('g7', 0), ('h7', 0), ('a8', 0), ('b8', 0), ('c8', 0), ('d8', 0), ('e8', 0), ('f8', 0), ('g8', 0), ('h8', 0)])\n",
      "OrderedDict([('a1', 0), ('b1', 0), ('c1', 0), ('d1', 0), ('e1', 0), ('f1', 0), ('g1', 0), ('h1', 0), ('a2', 0), ('b2', 0), ('c2', 0), ('d2', 0), ('e2', 0), ('f2', 0), ('g2', 0), ('h2', 0), ('a3', 0), ('b3', 0), ('c3', 0), ('d3', 0), ('e3', 0), ('f3', 0), ('g3', 0), ('h3', 0), ('a4', 0), ('b4', 0), ('c4', 0), ('d4', 0), ('e4', 0), ('f4', 0), ('g4', 0), ('h4', 0), ('a5', 0), ('b5', 0), ('c5', 0), ('d5', 0), ('e5', 0), ('f5', 0), ('g5', 0), ('h5', 0), ('a6', 2), ('b6', 2), ('c6', 3), ('d6', 2), ('e6', 2), ('f6', 3), ('g6', 2), ('h6', 2), ('a7', 1), ('b7', 1), ('c7', 1), ('d7', 4), ('e7', 4), ('f7', 1), ('g7', 1), ('h7', 1), ('a8', 0), ('b8', 1), ('c8', 1), ('d8', 1), ('e8', 1), ('f8', 1), ('g8', 1), ('h8', 0)])\n",
      "OrderedDict()\n",
      "{'white_territory': ['d2', 'e2'], 'black_territory': ['d7', 'e7'], 'min_strength': 4}\n"
     ]
    }
   ],
   "source": [
    "# print debugging\n",
    "\n",
    "board = chess.Board()\n",
    "board\n",
    "\n",
    "print(calc_square_strength(board, \"white\"))\n",
    "print(calc_square_strength(board, \"black\"))\n",
    "print(calc_square_strength(board, \"yolonglong\"))\n",
    "\n",
    "print(calc_territory(board, 4))"
   ]
  },
  {
   "cell_type": "code",
   "execution_count": null,
   "id": "1e0df1dc",
   "metadata": {},
   "outputs": [],
   "source": [
    "# Test Case #1\n"
   ]
  }
 ],
 "metadata": {
  "kernelspec": {
   "display_name": "Python 3",
   "language": "python",
   "name": "python3"
  },
  "language_info": {
   "codemirror_mode": {
    "name": "ipython",
    "version": 3
   },
   "file_extension": ".py",
   "mimetype": "text/x-python",
   "name": "python",
   "nbconvert_exporter": "python",
   "pygments_lexer": "ipython3",
   "version": "3.11.9"
  }
 },
 "nbformat": 4,
 "nbformat_minor": 5
}
