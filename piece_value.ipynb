{
 "cells": [
  {
   "cell_type": "code",
   "execution_count": 1,
   "id": "f0acac55",
   "metadata": {},
   "outputs": [],
   "source": [
    "# general library imports\n",
    "import numpy\n",
    "import pandas\n",
    "import chess\n",
    "import chess.svg\n",
    "\n",
    "# specific library imports\n",
    "from collections import OrderedDict\n",
    "from IPython.display import display, SVG\n",
    "\n",
    "\n",
    "#  imports to use Stockfish and other engines\n",
    "import os\n",
    "from dotenv import load_dotenv\n",
    "from stockfish import Stockfish\n"
   ]
  },
  {
   "cell_type": "code",
   "execution_count": null,
   "id": "3cd11a9b",
   "metadata": {},
   "outputs": [],
   "source": [
    "# Initialize Stockfish class\n",
    "load_dotenv()\n",
    "STOCKFISH_PATH = os.getenv(\"STOCKFISH_PATH\")\n",
    "stockfish = Stockfish(path=STOCKFISH_PATH)\n",
    "\n",
    "# Method to calculate a piece's relative value using engine evaluations\n",
    "def calculate_piece_engine_value(board, square, engine):\n",
    "\n",
    "    piece = board.piece_at(square)\n",
    "\n",
    "    if piece == None:\n",
    "        return \"ERROR: Square does not contain a piece.\"\n",
    "    \n",
    "    match engine:\n",
    "        case \"lc0\":\n",
    "            print(\"LELOLELOLELOLE\")\n",
    "        # use Stockfish by default if the provided engine is invalid\n",
    "        case \"stockfish\" | _:\n",
    "            # create two boards, one without the piece of interest\n",
    "            original_board = board.copy()\n",
    "            board_without_piece = board.copy()\n",
    "            board_without_piece = board_without_piece.remove_piece_at(square)\n",
    "\n",
    "            # convert both boards to fen\n",
    "\n",
    "            \n",
    "            # experiment to measure piece value by giving side with the removed piece the chance to move\n",
    "            '''\n",
    "            board_without_piece = not piece.color\n",
    "            '''\n",
    "\n",
    "    piece_value = 0\n",
    "    return piece_value"
   ]
  },
  {
   "cell_type": "code",
   "execution_count": null,
   "id": "be5a14cc",
   "metadata": {},
   "outputs": [
    {
     "name": "stdout",
     "output_type": "stream",
     "text": [
      "N:\\ChessBase 17\\Engines\\stockfish\\stockfish-windows-x86-64-avx2.exe\n"
     ]
    }
   ],
   "source": []
  }
 ],
 "metadata": {
  "kernelspec": {
   "display_name": "Python 3",
   "language": "python",
   "name": "python3"
  },
  "language_info": {
   "codemirror_mode": {
    "name": "ipython",
    "version": 3
   },
   "file_extension": ".py",
   "mimetype": "text/x-python",
   "name": "python",
   "nbconvert_exporter": "python",
   "pygments_lexer": "ipython3",
   "version": "3.11.9"
  }
 },
 "nbformat": 4,
 "nbformat_minor": 5
}
